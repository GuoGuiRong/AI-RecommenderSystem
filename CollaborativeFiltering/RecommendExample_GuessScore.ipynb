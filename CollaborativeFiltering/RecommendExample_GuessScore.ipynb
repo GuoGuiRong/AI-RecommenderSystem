{
 "cells": [
  {
   "cell_type": "markdown",
   "source": [
    "## Description:\n",
    "这是一个使用协同过滤算法的小案例， 实现一下博客上的那个用户评分的案例， 任务是预测某个用户对于某个物品的打分情况，具体可以参考给出的博客链接。"
   ],
   "metadata": {
    "collapsed": false
   }
  },
  {
   "cell_type": "code",
   "execution_count": null,
   "outputs": [],
   "source": [
    "import numpy as np\n",
    "import pandas as pd\n",
    "from sklearn.metrics.pairwise import cosine_similarity\n",
    "\n",
    "import warnings \n",
    "warnings.filterwarnings('ignore')"
   ],
   "metadata": {
    "collapsed": false,
    "pycharm": {
     "name": "#%%\n"
    }
   }
  },
  {
   "cell_type": "code",
   "execution_count": null,
   "outputs": [],
   "source": [
    "# 定义数据集, 为了简单起见, 我们只定义了5个用户5个物品\n",
    "def loadData():\n",
    "    items = {'物品1': {\"Alice\": 5, \"用户1\": 3, \"用户2\": 4, \"用户3\": 3, \"用户4\": 1},\n",
    "           '物品2': {\"Alice\": 3, \"用户1\": 1, \"用户2\": 3, \"用户3\": 3, \"用户4\": 5},\n",
    "           '物品3': {\"Alice\": 4, \"用户1\": 2, \"用户2\": 4, \"用户3\": 1, \"用户4\": 5},\n",
    "           '物品4': {\"Alice\": 4, \"用户1\": 3, \"用户2\": 3, \"用户3\": 5, \"用户4\": 2},\n",
    "           '物品5': {\"用户2\": 3, \"用户3\": 5, \"用户4\": 4, \"用户5\": 1}\n",
    "          }\n",
    "    users = {\"Alice\": {'物品1': 5, '物品2': 3, '物品3': 4, '物品4': 4},\n",
    "           \"用户1\": {'物品1': 3, '物品2': 1, '物品3': 2, '物品4': 3, '物品5': 3},\n",
    "           \"用户2\": {'物品1': 4, '物品2': 3, '物品3': 4, '物品4': 3, '物品5': 5},\n",
    "           \"用户3\": {'物品1': 3, '物品2': 3, '物品3': 1, '物品4': 5, '物品5': 4},\n",
    "           \"用户4\": {'物品1': 1, '物品2': 5, '物品3': 5, '物品4': 2, '物品5': 1}\n",
    "          }\n",
    "    return items,users"
   ],
   "metadata": {
    "collapsed": false,
    "pycharm": {
     "name": "#%%\n"
    }
   }
  },
  {
   "cell_type": "code",
   "execution_count": null,
   "outputs": [],
   "source": [
    "items, users = loadData()\n",
    "item_df = pd.DataFrame(items).T\n",
    "user_df = pd.DataFrame(users).T"
   ],
   "metadata": {
    "collapsed": false,
    "pycharm": {
     "name": "#%%\n"
    }
   }
  },
  {
   "cell_type": "code",
   "execution_count": null,
   "outputs": [],
   "source": [
    "\"\"\"计算用户相似性矩阵\"\"\"\n",
    "similarity_matrix = pd.DataFrame(np.zeros((len(users), len(users))), index=[\"Alice\", \"用户1\", \"用户2\", \"用户3\", \"用户4\"], \n",
    "                                 columns=[\"Alice\", \"用户1\", \"用户2\", \"用户3\", \"用户4\"])\n",
    "\n",
    "# 遍历每条用户-物品评分数据\n",
    "for userID in users:\n",
    "    for otheruserId in users:\n",
    "        vec_user = []\n",
    "        vec_otheruser = []\n",
    "        if userID != otheruserId:\n",
    "            for itemId in items:   # 遍历物品-用户评分数据\n",
    "                itemRatings = items[itemId]        # 这也是个字典  每条数据为所有用户对当前物品的评分\n",
    "                if userID in itemRatings and otheruserId in itemRatings:  # 说明两个用户都对该物品评过分\n",
    "                    vec_user.append(itemRatings[userID])\n",
    "                    vec_otheruser.append(itemRatings[otheruserId])\n",
    "            # 计算相似度矩阵共现矩阵\n",
    "            similarity_matrix[userID][otheruserId] = np.corrcoef(np.array(vec_user), np.array(vec_otheruser))[0][1]"
   ],
   "metadata": {
    "collapsed": false,
    "pycharm": {
     "name": "#%%\n"
    }
   }
  },
  {
   "cell_type": "code",
   "execution_count": null,
   "outputs": [],
   "source": [
    "similarity_matrix"
   ],
   "metadata": {
    "collapsed": false,
    "pycharm": {
     "name": "#%%\n"
    }
   }
  },
  {
   "cell_type": "code",
   "execution_count": null,
   "outputs": [],
   "source": [
    "\"\"\"计算前n个相似的用户\"\"\"\n",
    "n = 2\n",
    "similarity_users = similarity_matrix[\"Alice\"].sort_values(ascending=False)[:n].index.tolist()"
   ],
   "metadata": {
    "collapsed": false,
    "pycharm": {
     "name": "#%%\n"
    }
   }
  },
  {
   "cell_type": "code",
   "execution_count": null,
   "outputs": [],
   "source": [
    "\"\"\"计算最终得分\"\"\"\n",
    "base_score = np.mean(np.array([value for value in users[\"Alice\"].values()]))\n",
    "weighted_scores = 0.\n",
    "corr_values_sum = 0.\n",
    "for user in similarity_users:\n",
    "    corr_value = similarity_matrix[\"Alice\"][user]            # 两个用户之间的相似性\n",
    "    mean_user_score = np.mean(np.array([value for value in users[user].values()]))    # 每个用户的打分平均值\n",
    "    weighted_scores += corr_value * (users[user][\"物品5\"]-mean_user_score)      # 加权分数\n",
    "    corr_values_sum += corr_value\n",
    "final_scores = base_score + weighted_scores / corr_values_sum\n",
    "print('用户Alice对物品5的打分: ', final_scores)\n",
    "user_df.loc[\"Alice\"][\"物品5\"] = final_scores\n",
    "user_df"
   ],
   "metadata": {
    "collapsed": false,
    "pycharm": {
     "name": "#%%\n"
    }
   }
  },
  {
   "cell_type": "code",
   "execution_count": null,
   "outputs": [],
   "source": [
    "\"\"\"计算物品的相似矩阵\"\"\"\n",
    "similarity_matrix = pd.DataFrame(np.zeros((len(items), len(items))), \n",
    "                                 index=['物品1', '物品2', '物品3', '物品4','物品5'], \n",
    "                                 columns=['物品1', '物品2', '物品3', '物品4','物品5'])\n",
    "\n",
    "# 遍历每条物品-用户评分数据\n",
    "for itemId in items:\n",
    "    for otheritemId in items:\n",
    "        vec_item = []         # 定义列表， 保存当前两个物品的向量值\n",
    "        vec_otheritem = []\n",
    "        #userRagingPairCount = 0     # 两件物品均评过分的用户数\n",
    "        if itemId != otheritemId:    # 物品不同\n",
    "            for userId in users:    # 遍历用户-物品评分数据\n",
    "                userRatings = users[userId]    # 每条数据为该用户对所有物品的评分， 这也是个字典\n",
    "                \n",
    "                if itemId in userRatings and otheritemId in userRatings:   # 用户对这两个物品都评过分\n",
    "                    vec_item.append(userRatings[itemId])\n",
    "                    vec_otheritem.append(userRatings[otheritemId])\n",
    "            \n",
    "            # 计算相似度矩阵共现矩阵\n",
    "            similarity_matrix[itemId][otheritemId] = np.corrcoef(np.array(vec_item), np.array(vec_otheritem))[0][1]"
   ],
   "metadata": {
    "collapsed": false,
    "pycharm": {
     "name": "#%%\n"
    }
   }
  },
  {
   "cell_type": "code",
   "execution_count": null,
   "outputs": [],
   "source": [
    "similarity_matrix"
   ],
   "metadata": {
    "collapsed": false,
    "pycharm": {
     "name": "#%%\n"
    }
   }
  },
  {
   "cell_type": "code",
   "execution_count": null,
   "outputs": [],
   "source": [
    "\"\"\"得到与物品5相似的前n个物品\"\"\"\n",
    "n = 2\n",
    "similarity_items = similarity_matrix['物品5'].sort_values(ascending=False)[:n].index.tolist()\n",
    "similarity_items"
   ],
   "metadata": {
    "collapsed": false,
    "pycharm": {
     "name": "#%%\n"
    }
   }
  },
  {
   "cell_type": "code",
   "execution_count": null,
   "outputs": [],
   "source": [
    "\"\"\"计算最终得分\"\"\"\n",
    "base_score = np.mean(np.array([value for value in items['物品5'].values()]))\n",
    "weighted_scores = 0.\n",
    "corr_values_sum = 0.\n",
    "for item in similarity_items:\n",
    "    corr_value = similarity_matrix['物品5'][item]            # 两个物品之间的相似性\n",
    "    mean_item_score = np.mean(np.array([value for value in items[item].values()]))    # 每个物品的打分平均值\n",
    "    weighted_scores += corr_value * (users[\"Alice\"][item]-mean_item_score)      # 加权分数\n",
    "    corr_values_sum += corr_value\n",
    "final_scores = base_score + weighted_scores / corr_values_sum\n",
    "print('用户Alice对物品5的打分: ', final_scores)\n",
    "user_df.loc[\"Alice\"]['物品5'] = final_scores\n",
    "user_df"
   ],
   "metadata": {
    "collapsed": false,
    "pycharm": {
     "name": "#%%\n"
    }
   }
  }
 ],
 "metadata": {
  "kernelspec": {
   "display_name": "Python 3",
   "language": "python",
   "name": "python3"
  },
  "toc": {
   "base_numbering": 1,
   "nav_menu": {},
   "number_sections": true,
   "sideBar": true,
   "skip_h1_title": false,
   "title_cell": "Table of Contents",
   "title_sidebar": "Contents",
   "toc_cell": false,
   "toc_position": {},
   "toc_section_display": true,
   "toc_window_display": false
  },
  "varInspector": {
   "cols": {
    "lenName": 16,
    "lenType": 16,
    "lenVar": 40
   },
   "kernels_config": {
    "python": {
     "delete_cmd_postfix": "",
     "delete_cmd_prefix": "del ",
     "library": "var_list.py",
     "varRefreshCmd": "print(var_dic_list())"
    },
    "r": {
     "delete_cmd_postfix": ") ",
     "delete_cmd_prefix": "rm(",
     "library": "var_list.r",
     "varRefreshCmd": "cat(var_dic_list()) "
    }
   },
   "types_to_exclude": [
    "module",
    "function",
    "builtin_function_or_method",
    "instance",
    "_Feature"
   ],
   "window_display": false
  },
  "pycharm": {
   "stem_cell": {
    "cell_type": "raw",
    "source": [],
    "metadata": {
     "collapsed": false
    }
   }
  }
 },
 "nbformat": 4,
 "nbformat_minor": 2
}